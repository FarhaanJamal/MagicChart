{
 "cells": [
  {
   "cell_type": "code",
   "execution_count": 23,
   "metadata": {},
   "outputs": [],
   "source": [
    "from tvDatafeed import TvDatafeed, Interval\n",
    "import pandas as pd\n",
    "import numpy as np\n",
    "from sklearn.preprocessing import MinMaxScaler\n",
    "from joblib import load\n",
    "import matplotlib.pyplot as plt\n",
    "\n",
    "def get_candles(interval, prev_val = 0):\n",
    "    tv = TvDatafeed()\n",
    "\n",
    "    if interval == \"1_minute\":\n",
    "        niftyIndex = tv.get_hist(symbol='NIFTY', exchange='NSE', interval=Interval.in_1_minute, n_bars=(211 + prev_val))\n",
    "    elif interval == \"3_minute\":\n",
    "        niftyIndex = tv.get_hist(symbol='NIFTY', exchange='NSE', interval=Interval.in_3_minute, n_bars=(211 + prev_val))\n",
    "    elif interval == \"5_minute\":\n",
    "        niftyIndex = tv.get_hist(symbol='NIFTY', exchange='NSE', interval=Interval.in_5_minute, n_bars=(211 + prev_val))\n",
    "    elif interval == \"15_minute\":\n",
    "        niftyIndex = tv.get_hist(symbol='NIFTY', exchange='NSE', interval=Interval.in_15_minute, n_bars=(211 + prev_val))\n",
    "    elif interval == \"1_hour\":\n",
    "        niftyIndex = tv.get_hist(symbol='NIFTY', exchange='NSE', interval=Interval.in_1_hour, n_bars=(211 + prev_val))\n",
    "    else:\n",
    "        raise Exception(\"Invalid Interval\")\n",
    "\n",
    "    data = pd.DataFrame(niftyIndex)\n",
    "    data.reset_index(inplace=True)\n",
    "    data.drop(columns=[\"symbol\", \"volume\"], inplace=True)\n",
    "\n",
    "    currentDate = pd.Timestamp.now()\n",
    "    if data.iloc[-1]['datetime'] < currentDate:\n",
    "        data = data.iloc[:-1]\n",
    "\n",
    "    if prev_val != 0:\n",
    "        data = data.iloc[:-prev_val].reset_index(drop=True)\n",
    "\n",
    "    #print(data.tail)\n",
    "\n",
    "    #--------------------------------------------------------------\n",
    "\n",
    "    data[\"datetime\"] = pd.to_datetime(data[\"datetime\"])\n",
    "\n",
    "    data['day'] = data['datetime'].dt.dayofweek\n",
    "    data['hour'] = data['datetime'].dt.hour\n",
    "    if interval != \"1_hour\":\n",
    "        data['minute'] = data['datetime'].dt.minute\n",
    "\n",
    "    data[\"mv20\"] = data[\"close\"].rolling(window=20).mean()\n",
    "    data[\"mv50\"] = data[\"close\"].rolling(window=50).mean()\n",
    "    data[\"mv200\"] = data[\"close\"].rolling(window=200).mean()\n",
    "\n",
    "    data['tr'] = np.maximum(data['high'] - data['low'], np.abs(data['high'] - data['close'].shift()), np.abs(data['low'] - data['close'].shift()))\n",
    "    data['atr'] = data['tr'].rolling(window=14).mean()\n",
    "    data.drop(columns=['tr'], inplace=True)\n",
    "\n",
    "    data = data.iloc[-11:].reset_index(drop=True)\n",
    "\n",
    "    #print(data)\n",
    "\n",
    "    #--------------------------------------------------------------\n",
    "\n",
    "    columns_to_difference = [\"open\", \"high\", \"low\", \"close\", \"mv20\", \"mv50\", \"mv200\", \"atr\"]\n",
    "    if interval != \"1_hour\":\n",
    "        other_columns = [\"datetime\", \"day\", \"hour\", \"minute\"]\n",
    "    else:\n",
    "        other_columns = [\"datetime\", \"day\", \"hour\"]\n",
    "\n",
    "    data_diff = pd.DataFrame()\n",
    "    data_diff[other_columns] = data[other_columns]\n",
    "\n",
    "    for col in columns_to_difference:\n",
    "        data_diff[col] = data[col].diff()\n",
    "\n",
    "    data_diff = data_diff.iloc[1:].reset_index(drop=True)\n",
    "\n",
    "    #--------------------------------------------------------------\n",
    "\n",
    "    target_candle_data_cols = ['high', 'low']\n",
    "    if interval != \"1_hour\":\n",
    "        other_candle_data_cols = ['day', 'hour', 'minute', 'open', 'close', 'mv20', 'mv50', 'mv200', 'atr']\n",
    "        candle_data_cols = ['open', 'high', 'low', 'close', 'day', 'hour', 'minute', 'mv20', 'mv50', 'mv200', 'atr']\n",
    "    else:\n",
    "        other_candle_data_cols = ['day', 'hour', 'open', 'close', 'mv20', 'mv50', 'mv200', 'atr']\n",
    "        candle_data_cols = ['open', 'high', 'low', 'close', 'day', 'hour', 'mv20', 'mv50', 'mv200', 'atr']\n",
    "\n",
    "    scalar_candle = load(f'archive/scalars/scalar_{interval}_candle.save')\n",
    "    scalar_candle_target = load(f'archive/scalars/scalar_{interval}_candle_target.save')\n",
    "\n",
    "    data_diff[other_candle_data_cols] = scalar_candle.transform(data_diff[other_candle_data_cols])\n",
    "    data_diff[target_candle_data_cols] = scalar_candle_target.transform(data_diff[target_candle_data_cols])\n",
    "    #print(data_diff.head(15))\n",
    "\n",
    "    #--------------------------------------------------------------\n",
    "\n",
    "    PAST_WINDOW = 10\n",
    "\n",
    "    candle_sequences = []\n",
    "    for ind in range(len(data_diff) - PAST_WINDOW + 1):\n",
    "        candle_seq = data_diff.iloc[ind : ind + PAST_WINDOW][candle_data_cols].values\n",
    "        candle_sequences.append(candle_seq)\n",
    "\n",
    "    candle_sequences = np.array(candle_sequences)\n",
    "\n",
    "    return candle_sequences, data"
   ]
  },
  {
   "cell_type": "code",
   "execution_count": 24,
   "metadata": {},
   "outputs": [],
   "source": [
    "def predict_n_prepare(candle_sequences, data, interval):\n",
    "    data = data.iloc[1:].reset_index(drop=True)\n",
    "    model = load(f\"archive/models/model_{interval}.save\")\n",
    "    scaled_pred = model.predict(candle_sequences)\n",
    "    \n",
    "    scalar_candle_target = load(f'archive/scalars/scalar_{interval}_candle_target.save')\n",
    "    y_pred = scalar_candle_target.inverse_transform(scaled_pred.reshape(-1, scaled_pred.shape[-1])).reshape(scaled_pred.shape)\n",
    "    #print(y_pred[0][0])\n",
    "\n",
    "    y_pred_flat = y_pred.reshape(-1, 2)\n",
    "    last_row = data[[\"high\", \"low\"]].iloc[-1]\n",
    "    new_row = last_row + y_pred_flat[0]\n",
    "    new_row = np.round(new_row, 2) \n",
    "    new_row_df = pd.DataFrame([new_row], columns=[\"high\", \"low\"])\n",
    "    if interval == \"1_minute\":\n",
    "        new_row_df[\"datetime\"] = pd.to_datetime(data[\"datetime\"].iloc[-1]) + pd.Timedelta(minutes=1)\n",
    "    elif interval == \"3_minute\":\n",
    "        new_row_df[\"datetime\"] = pd.to_datetime(data[\"datetime\"].iloc[-1]) + pd.Timedelta(minutes=3)\n",
    "    elif interval == \"5_minute\":\n",
    "        new_row_df[\"datetime\"] = pd.to_datetime(data[\"datetime\"].iloc[-1]) + pd.Timedelta(minutes=5)\n",
    "    elif interval == \"15_minute\":\n",
    "        new_row_df[\"datetime\"] = pd.to_datetime(data[\"datetime\"].iloc[-1]) + pd.Timedelta(minutes=15)\n",
    "    elif interval == \"1_hour\":\n",
    "        new_row_df[\"datetime\"] = pd.to_datetime(data[\"datetime\"].iloc[-1]) + pd.Timedelta(minutes=60)\n",
    "\n",
    "    plot_data = data[[\"datetime\", \"high\", \"low\"]].copy()\n",
    "    plot_data = pd.concat([plot_data, new_row_df], ignore_index=True)\n",
    "    plot_data = plot_data.iloc[1:].reset_index(drop=True)\n",
    "    return plot_data"
   ]
  },
  {
   "cell_type": "markdown",
   "metadata": {},
   "source": [
    "def magic_plot(candle_sequences, data, model):\n",
    "    scaled_pred = model.predict(candle_sequences)\n",
    "    \n",
    "    scalar_candle_target = load('archive/scalar_candle_target.save')\n",
    "    y_pred = scalar_candle_target.inverse_transform(scaled_pred.reshape(-1, scaled_pred.shape[-1])).reshape(scaled_pred.shape)\n",
    "    print(y_pred[0][0])\n",
    "\n",
    "    y_pred_flat = y_pred.reshape(-1, 2)\n",
    "    last_row = data[[\"high\", \"low\"]].iloc[-1]\n",
    "    new_row = last_row + y_pred_flat[0]\n",
    "    new_row_df = pd.DataFrame([new_row], columns=[\"high\", \"low\"])\n",
    "    new_row_df[\"datetime\"] = pd.to_datetime(data[\"datetime\"].iloc[-1]) + pd.Timedelta(minutes=5)\n",
    "\n",
    "    plot_data = data[[\"datetime\", \"high\", \"low\"]].copy()\n",
    "    plot_data = pd.concat([plot_data, new_row_df], ignore_index=True)\n",
    "    #print(plot_data.head(15))\n",
    "    \n",
    "    plt.figure(figsize=(6, 4))\n",
    "    plt.title(\"Magic Graph\", fontsize=20)\n",
    "    plt.plot(plot_data[\"datetime\"], plot_data[\"high\"], label=\"High\", color=\"blue\")\n",
    "    plt.plot(plot_data[\"datetime\"], plot_data[\"low\"], label=\"Low\", color=\"red\")\n",
    "    \n",
    "    new_datetime = plot_data[\"datetime\"].iloc[-1]\n",
    "    new_high = plot_data[\"high\"].iloc[-1]\n",
    "    new_low = plot_data[\"low\"].iloc[-1]\n",
    "\n",
    "    plt.text(new_datetime, new_high, f\"{new_high:.2f}\", color=\"blue\", fontsize=10, ha=\"center\", va=\"bottom\")\n",
    "    plt.text(new_datetime, new_low, f\"{new_low:.2f}\", color=\"red\", fontsize=10, ha=\"center\", va=\"top\")\n",
    "    \n",
    "    plt.legend()\n",
    "    plt.grid()\n",
    "    plt.xlabel(\"Datetime\")\n",
    "    plt.tight_layout()\n",
    "    plt.show(block=False)\n",
    "    plt.pause(0.1)\n",
    "\n",
    "    cur_time = pd.Timestamp.now()\n",
    "    if (cur_time.minute % 5) == 0 :\n",
    "        print(cur_time.minute, 5 * 60 - abs(cur_time.second-2), \"1ok\")\n",
    "        sleep(5 * 60 - abs(cur_time.second-2))\n",
    "        plt.close()\n",
    "    else:\n",
    "        print(cur_time.minute, ((5-(cur_time.minute % 5)) * 60 - abs(cur_time.second-2)), \"2ok\")\n",
    "        sleep((5-(cur_time.minute % 5)) * 60 - abs(cur_time.second-2))\n",
    "        plt.close()\n",
    "\n",
    "\n",
    "\n",
    "\n",
    "model = load(\"archive/model_only2-2.save\")\n",
    "\n",
    "\"\"\"for ind in range(10):\n",
    "    candle_sequences, data = get_data(ind+1)\n",
    "    magic_plot(candle_sequences, data, model)\"\"\"\n",
    "\n",
    "candle_sequences, data = get_data()\n",
    "magic_plot(candle_sequences, data, model)\n",
    "\n",
    "while True:\n",
    "    cur_time = pd.Timestamp.now()\n",
    "    if (cur_time.minute % 5) == 0 :\n",
    "        candle_sequences, data = get_data()\n",
    "        magic_plot(candle_sequences, data, model)"
   ]
  },
  {
   "cell_type": "code",
   "execution_count": 25,
   "metadata": {},
   "outputs": [
    {
     "name": "stderr",
     "output_type": "stream",
     "text": [
      "WARNING:tvDatafeed.main:you are using nologin method, data you access may be limited\n"
     ]
    },
    {
     "name": "stdout",
     "output_type": "stream",
     "text": [
      "Input shape (1, 10, 10)\n"
     ]
    }
   ],
   "source": [
    "candle_sequences, data = get_candles(\"1_hour\")\n",
    "print(\"Input shape\",candle_sequences.shape)"
   ]
  },
  {
   "cell_type": "code",
   "execution_count": 26,
   "metadata": {},
   "outputs": [
    {
     "name": "stdout",
     "output_type": "stream",
     "text": [
      "\u001b[1m1/1\u001b[0m \u001b[32m━━━━━━━━━━━━━━━━━━━━\u001b[0m\u001b[37m\u001b[0m \u001b[1m0s\u001b[0m 114ms/step\n",
      "             datetime      high       low\n",
      "0 2024-12-12 12:15:00  24583.65  24551.65\n",
      "1 2024-12-12 13:15:00  24579.85  24543.05\n",
      "2 2024-12-12 14:15:00  24577.05  24527.95\n",
      "3 2024-12-12 15:15:00  24561.30  24534.60\n",
      "4 2024-12-13 09:15:00  24520.80  24343.70\n",
      "5 2024-12-13 10:15:00  24353.15  24180.80\n",
      "6 2024-12-13 11:15:00  24598.80  24266.85\n",
      "7 2024-12-13 12:15:00  24688.20  24497.90\n",
      "8 2024-12-13 13:15:00  24757.90  24574.80\n",
      "9 2024-12-13 14:15:00  24810.50  24584.67\n"
     ]
    }
   ],
   "source": [
    "plot_data = predict_n_prepare(candle_sequences, data, \"1_hour\")\n",
    "print(plot_data)"
   ]
  },
  {
   "cell_type": "code",
   "execution_count": 27,
   "metadata": {},
   "outputs": [
    {
     "name": "stderr",
     "output_type": "stream",
     "text": [
      "WARNING:tvDatafeed.main:you are using nologin method, data you access may be limited\n"
     ]
    },
    {
     "name": "stdout",
     "output_type": "stream",
     "text": [
      "Input shape (1, 10, 11)\n",
      "\u001b[1m1/1\u001b[0m \u001b[32m━━━━━━━━━━━━━━━━━━━━\u001b[0m\u001b[37m\u001b[0m \u001b[1m0s\u001b[0m 109ms/step\n",
      "             datetime      high       low\n",
      "0 2024-12-13 13:35:00  24707.70  24669.05\n",
      "1 2024-12-13 13:40:00  24736.35  24693.15\n",
      "2 2024-12-13 13:45:00  24748.65  24719.20\n",
      "3 2024-12-13 13:50:00  24757.90  24720.55\n",
      "4 2024-12-13 13:55:00  24739.90  24707.70\n",
      "5 2024-12-13 14:00:00  24753.45  24729.65\n",
      "6 2024-12-13 14:05:00  24743.25  24713.90\n",
      "7 2024-12-13 14:10:00  24746.25  24722.70\n",
      "8 2024-12-13 14:15:00  24749.55  24722.00\n",
      "9 2024-12-13 14:20:00  24753.26  24735.89\n"
     ]
    }
   ],
   "source": [
    "candle_sequences, data = get_candles(\"5_minute\")\n",
    "print(\"Input shape\",candle_sequences.shape)\n",
    "plot_data = predict_n_prepare(candle_sequences, data, \"5_minute\")\n",
    "print(plot_data)"
   ]
  },
  {
   "cell_type": "code",
   "execution_count": 28,
   "metadata": {},
   "outputs": [
    {
     "name": "stdout",
     "output_type": "stream",
     "text": [
      "[{\"datetime\":\"13:35\",\"high\":24707.7,\"low\":24669.05},{\"datetime\":\"13:40\",\"high\":24736.35,\"low\":24693.15},{\"datetime\":\"13:45\",\"high\":24748.65,\"low\":24719.2},{\"datetime\":\"13:50\",\"high\":24757.9,\"low\":24720.55},{\"datetime\":\"13:55\",\"high\":24739.9,\"low\":24707.7},{\"datetime\":\"14:00\",\"high\":24753.45,\"low\":24729.65},{\"datetime\":\"14:05\",\"high\":24743.25,\"low\":24713.9},{\"datetime\":\"14:10\",\"high\":24746.25,\"low\":24722.7},{\"datetime\":\"14:15\",\"high\":24749.55,\"low\":24722.0},{\"datetime\":\"14:20\",\"high\":24753.26,\"low\":24735.89}]\n"
     ]
    }
   ],
   "source": [
    "plot_data[\"datetime\"] = pd.to_datetime(plot_data[\"datetime\"])\n",
    "plot_data[\"datetime\"] = plot_data[\"datetime\"].dt.strftime(\"%H:%M\")\n",
    "json_output = plot_data.to_json(orient=\"records\")\n",
    "print(json_output)"
   ]
  }
 ],
 "metadata": {
  "kernelspec": {
   "display_name": "py310",
   "language": "python",
   "name": "python3"
  },
  "language_info": {
   "codemirror_mode": {
    "name": "ipython",
    "version": 3
   },
   "file_extension": ".py",
   "mimetype": "text/x-python",
   "name": "python",
   "nbconvert_exporter": "python",
   "pygments_lexer": "ipython3",
   "version": "3.10.14"
  }
 },
 "nbformat": 4,
 "nbformat_minor": 2
}
